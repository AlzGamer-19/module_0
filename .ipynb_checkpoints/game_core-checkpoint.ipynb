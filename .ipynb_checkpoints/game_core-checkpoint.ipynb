{
 "cells": [
  {
   "cell_type": "code",
   "execution_count": 2,
   "metadata": {},
   "outputs": [
    {
     "name": "stdout",
     "output_type": "stream",
     "text": [
      "Загадано число от 1 до 100 2\n",
      "predict 2\n",
      "6\n"
     ]
    }
   ],
   "source": [
    "import numpy as np\n",
    "\n",
    "number = np.random.randint(1,101)   # загадали число\n",
    "print (\"Загадано число от 1 до 100\")\n",
    "\n",
    "def game_core_v3(number):\n",
    "    section=[i for i in range(1,101)] # создаю массив из всех возможных значений\n",
    "    predict=0 # объявления переменной для предполагаемого числа\n",
    "    count=0 # счетчик попыток\n",
    "    while predict!=number:\n",
    "        count+=1 \n",
    "        top_position=len(section) # определяю верхнюю границу массива значений\n",
    "        bottom_position=0 # определеяю нижнюю границу массива значений\n",
    "        predict=section[(top_position-bottom_position)//2] # определяю предполагаемое значение, равное среднему положению в массиве\n",
    "        if predict==number: \n",
    "            return count # если значение угадано, то возвращаю количество попыток\n",
    "        elif number in section[bottom_position:(top_position-bottom_position)//2]: # проверяю отрезок, который находится ниже предполагаемого значения, на наличие целевого числа в нем\n",
    "            section=section[bottom_position:(top_position-bottom_position)//2] # исключаю значения из отрезка, в котором не может содержаться целевое число\n",
    "        elif number in section[(top_position-bottom_position)//2:top_position]: # проверяю отрезок, который находится выше предполагаемого значения, на наличие целевого числа в нем\n",
    "            section=section[(top_position-bottom_position)//2:top_position] # исключаю значения из отрезка, в котором не может содержаться целевое число\n",
    "\n",
    "print(game_core_v3(number))"
   ]
  },
  {
   "cell_type": "code",
   "execution_count": null,
   "metadata": {},
   "outputs": [],
   "source": []
  }
 ],
 "metadata": {
  "kernelspec": {
   "display_name": "Python 3",
   "language": "python",
   "name": "python3"
  },
  "language_info": {
   "codemirror_mode": {
    "name": "ipython",
    "version": 3
   },
   "file_extension": ".py",
   "mimetype": "text/x-python",
   "name": "python",
   "nbconvert_exporter": "python",
   "pygments_lexer": "ipython3",
   "version": "3.8.3"
  }
 },
 "nbformat": 4,
 "nbformat_minor": 4
}
